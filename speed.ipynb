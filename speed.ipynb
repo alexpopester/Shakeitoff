{
 "cells": [
  {
   "cell_type": "code",
   "execution_count": null,
   "metadata": {},
   "outputs": [],
   "source": [
    "import pyvista as pv\n",
    "import numpy as np\n",
    "import pandas as pd\n",
    "import matplotlib.pyplot as mt\n",
    "from matplotlib.colors import ListedColormap\n",
    "from matplotlib import pyplot as plt\n",
    "import seaborn as sns\n",
    "import vtk \n",
    "import vtkmodules "
   ]
  },
  {
   "attachments": {},
   "cell_type": "markdown",
   "metadata": {},
   "source": [
    "## Graphing wave data at a single point"
   ]
  },
  {
   "cell_type": "code",
   "execution_count": null,
   "metadata": {},
   "outputs": [],
   "source": [
    "XFILESTOGRAPH = [\n",
    "    \"TS21z_X_R2_000100\", \"TS21z_X_R2_000200\",\n",
    "    \"TS21z_X_R2_000300\", \"TS21z_X_R2_000400\", \"TS21z_X_R2_000500\",\n",
    "    \"TS21z_X_R2_000600\", \"TS21z_X_R2_000700\", \"TS21z_X_R2_000800\",\"TS21z_X_R2_000900\",\n",
    "    \"TS21z_X_R2_001000\", \"TS21z_X_R2_001100\", \"TS21z_X_R2_001200\",\n",
    "    \"TS21z_X_R2_001300\", \"TS21z_X_R2_001400\", \"TS21z_X_R2_001500\",\n",
    "    \"TS21z_X_R2_001600\", \"TS21z_X_R2_001700\", \"TS21z_X_R2_001800\",\"TS21z_X_R2_001900\",\n",
    "    \"TS21z_X_R2_002000\", \"TS21z_X_R2_002100\", \"TS21z_X_R2_002200\",\n",
    "    \"TS21z_X_R2_002300\", \"TS21z_X_R2_002400\", \"TS21z_X_R2_002500\",\n",
    "    \"TS21z_X_R2_002600\", \"TS21z_X_R2_002700\", \"TS21z_X_R2_002800\",\"TS21z_X_R2_002900\",\n",
    "    \"TS21z_X_R2_003000\", \"TS21z_X_R2_003100\", \"TS21z_X_R2_003200\",\n",
    "    \"TS21z_X_R2_003300\", \"TS21z_X_R2_003400\", \"TS21z_X_R2_003500\",\n",
    "    \"TS21z_X_R2_003600\", \"TS21z_X_R2_003700\", \"TS21z_X_R2_003800\",\"TS21z_X_R2_003900\",\n",
    "    \"TS21z_X_R2_004000\", \"TS21z_X_R2_004100\", \"TS21z_X_R2_004200\",\n",
    "    \"TS21z_X_R2_004300\", \"TS21z_X_R2_004400\", \"TS21z_X_R2_004500\",\n",
    "    \"TS21z_X_R2_004600\", \"TS21z_X_R2_004700\", \"TS21z_X_R2_004800\",\"TS21z_X_R2_004900\",\n",
    "    \"TS21z_X_R2_005000\", \"TS21z_X_R2_005100\", \"TS21z_X_R2_005200\",\n",
    "    \"TS21z_X_R2_005300\", \"TS21z_X_R2_005400\", \"TS21z_X_R2_005500\",\n",
    "    \"TS21z_X_R2_005600\", \"TS21z_X_R2_005700\", \"TS21z_X_R2_005800\",\n",
    "    \"TS21z_X_R2_005900\", \"TS21z_X_R2_006000\", \"TS21z_X_R2_006100\",\n",
    "    \"TS21z_X_R2_006200\", \"TS21z_X_R2_006300\", \"TS21z_X_R2_006400\",\n",
    "    \"TS21z_X_R2_006500\", \"TS21z_X_R2_006600\", \"TS21z_X_R2_006700\",\n",
    "    \"TS21z_X_R2_006800\", \"TS21z_X_R2_006900\", \"TS21z_X_R2_007000\",\n",
    "    \"TS21z_X_R2_007100\", \"TS21z_X_R2_007200\", \"TS21z_X_R2_007300\",\n",
    "    \"TS21z_X_R2_007400\", \"TS21z_X_R2_007500\", \"TS21z_X_R2_007600\",\n",
    "    \"TS21z_X_R2_007700\", \"TS21z_X_R2_007800\", \"TS21z_X_R2_007900\",     \n",
    "    \"TS21z_X_R2_008000\", \"TS21z_X_R2_008100\", \"TS21z_X_R2_008200\",\n",
    "    \"TS21z_X_R2_008300\", \"TS21z_X_R2_008400\", \"TS21z_X_R2_008500\",\n",
    "    \"TS21z_X_R2_008600\", \"TS21z_X_R2_008700\", \"TS21z_X_R2_008800\",\n",
    "    \"TS21z_X_R2_008900\", \"TS21z_X_R2_009000\", \"TS21z_X_R2_009100\",\n",
    "    \"TS21z_X_R2_009200\", \"TS21z_X_R2_009300\", \"TS21z_X_R2_009400\",\n",
    "    \"TS21z_X_R2_009500\", \"TS21z_X_R2_009600\", \"TS21z_X_R2_009700\",\n",
    "    \"TS21z_X_R2_009800\", \"TS21z_X_R2_009900\", \"TS21z_X_R2_010000\",\n",
    "    \"TS21z_X_R2_010100\", \"TS21z_X_R2_010200\", \"TS21z_X_R2_010300\",\n",
    "    \"TS21z_X_R2_010400\", \"TS21z_X_R2_010500\", \"TS21z_X_R2_010600\",\n",
    "    \"TS21z_X_R2_010700\", \"TS21z_X_R2_010800\", \"TS21z_X_R2_010900\",     \n",
    "    \"TS21z_X_R2_011000\", \"TS21z_X_R2_011100\", \"TS21z_X_R2_011200\",\n",
    "    \"TS21z_X_R2_011300\", \"TS21z_X_R2_011400\", \"TS21z_X_R2_011500\",\n",
    "    \"TS21z_X_R2_011600\", \"TS21z_X_R2_011700\", \"TS21z_X_R2_011800\",\n",
    "    \"TS21z_X_R2_011900\", \"TS21z_X_R2_012000\", \"TS21z_X_R2_012100\",\n",
    "    \"TS21z_X_R2_012200\", \"TS21z_X_R2_012300\", \"TS21z_X_R2_012400\",\n",
    "    \"TS21z_X_R2_012500\", \"TS21z_X_R2_012600\", \"TS21z_X_R2_012700\",\n",
    "    \"TS21z_X_R2_012800\", \"TS21z_X_R2_012900\", \"TS21z_X_R2_013000\",\n",
    "    \"TS21z_X_R2_013100\", \"TS21z_X_R2_013200\", \"TS21z_X_R2_013300\",\n",
    "    \"TS21z_X_R2_013400\", \"TS21z_X_R2_013500\", \"TS21z_X_R2_013600\",\n",
    "    \"TS21z_X_R2_013700\", \"TS21z_X_R2_013800\", \"TS21z_X_R2_013900\",          \n",
    "]"
   ]
  },
  {
   "cell_type": "code",
   "execution_count": null,
   "metadata": {},
   "outputs": [],
   "source": [
    "plotter = pv.Plotter() \n",
    "landFeatures = pv.read(\"../TS21VelocityMesh_VS_R2.vtk\")\n",
    "\n",
    "landFeatures = landFeatures.scale((4,4,4))\n",
    "\n",
    "\n",
    "landFeatures = landFeatures.threshold(2500, invert=True)\n",
    "\n",
    "plotter.add_mesh(landFeatures, color=\"green\")\n",
    "\n",
    "waves = pv.read(\"../x1-20vtk/TS21z_X_R2_008000.vtk\")\n",
    "mesh = plotter.add_mesh(waves, cmap=\"seismic\", opacity=0.5, clim=[-0.6680263,0.59702307], pickable=True)\n",
    "print(waves)\n",
    "xnum = 750\n",
    "ynum = 375\n",
    "\n",
    "def clicker(mesh, pid):\n",
    "    print(f\"pid {pid}\")\n",
    "    xCoord = pid % xnum \n",
    "    yCoord = (pid // xnum) % ynum\n",
    "    zCoord = pid // (xnum * ynum)\n",
    "    print(f'Coords: [{xCoord}, {yCoord}, {zCoord}]')\n",
    "\n",
    "\n",
    "\n",
    "plotter.enable_point_picking(callback=clicker,left_clicking=True, show_message=True, color='red', use_mesh=True, show_point=True)\n",
    "\n",
    "# plotter.show()\n"
   ]
  },
  {
   "cell_type": "code",
   "execution_count": null,
   "metadata": {},
   "outputs": [],
   "source": [
    "plotter = pv.Plotter() \n",
    "landFeatures = pv.read(\"../TS21VelocityMesh_VS_R2.vtk\")\n",
    "\n",
    "landFeatures = landFeatures.scale((4,4,4))\n",
    "\n",
    "\n",
    "landFeatures = landFeatures.threshold(2500, invert=True)\n",
    "\n",
    "plotter.add_mesh(landFeatures, color=\"green\")\n",
    "\n",
    "waves = pv.read(\"../x1-20vtk/TS21z_X_R2_008000.vtk\")\n",
    "mesh = plotter.add_mesh(waves, cmap=\"seismic\", opacity=0.5, clim=[-0.6680263,0.59702307], pickable=True)\n",
    "\n",
    "plotter.show()"
   ]
  },
  {
   "cell_type": "code",
   "execution_count": null,
   "metadata": {},
   "outputs": [],
   "source": [
    "def getPID(xnum, ynum):\n",
    "    znum = 99\n",
    "    pid = (znum * 375 * 750) + (ynum * 750) + xnum\n",
    "    return pid"
   ]
  },
  {
   "cell_type": "code",
   "execution_count": null,
   "metadata": {},
   "outputs": [],
   "source": [
    "pointsXY = [(189,38), (211,55), (234,73), (255,89), (277,105), (298,122), \n",
    "          (319,138), (340,155), (363,171), (392,195), (409,208)]\n",
    "for point in pointsXY:\n",
    "    print(f'Point: ({point[0]}, {point[1]}): {getPID(point[0],point[1])}')"
   ]
  },
  {
   "cell_type": "code",
   "execution_count": null,
   "metadata": {},
   "outputs": [],
   "source": [
    "plotter = pv.Plotter() \n",
    "landFeatures = pv.read(\"../TS21VelocityMesh_VS_R2.vtk\")\n",
    "\n",
    "landFeatures = landFeatures.scale((4,4,4))\n",
    "\n",
    "\n",
    "landFeatures = landFeatures.threshold(2500, invert=True)\n",
    "\n",
    "plotter.add_mesh(landFeatures, color=\"green\")\n",
    "\n",
    "waves = pv.read(\"../x1-20vtk/TS21z_X_R2_008000.vtk\")\n",
    "mesh = plotter.add_mesh(waves, cmap=\"seismic\", opacity=0.5, clim=[-0.6680263,0.59702307], pickable=True)\n",
    "\n",
    "for point in pointsXY:\n",
    "    sphere = pv.Sphere(radius=4000, center=(point[0]*800,point[1]*800,99*800))\n",
    "    plotter.add_mesh(sphere, color='black')\n",
    "    \n",
    "plotter.show()"
   ]
  },
  {
   "cell_type": "code",
   "execution_count": null,
   "metadata": {},
   "outputs": [],
   "source": [
    "# df = pd.DataFrame(columns=['p0', 'p1', 'p2', 'p3', 'p4', 'p5', 'p6', 'p7', 'p8', 'p9', 'p10'])\n",
    "\n",
    "# # Points along a line, going through one of the basins\n",
    "# points = [27872439, 27885211, 27898734, 27910755, 27922777, 27935548, 27947569, 27960340, 27972363, 27990392, 28000159]\n",
    "# for file in XFILESTOGRAPH:\n",
    "#     data = pv.read(f\"../x1-20vtk/{file}.vtk\")\n",
    "#     pointData = []\n",
    "#     for point in points:\n",
    "#         pointData.append(data.point_data['ImageFile'][point])\n",
    "#     df.loc[len(df.index)] = pointData\n",
    "#     print(file)"
   ]
  },
  {
   "cell_type": "code",
   "execution_count": null,
   "metadata": {},
   "outputs": [],
   "source": [
    "# df.to_csv(\"pointData.csv\")\n",
    "df = pd.read_csv('pointData.csv')"
   ]
  },
  {
   "attachments": {},
   "cell_type": "markdown",
   "metadata": {},
   "source": [
    "## Plotting Points Before the Basin"
   ]
  },
  {
   "cell_type": "code",
   "execution_count": null,
   "metadata": {},
   "outputs": [],
   "source": [
    "fig, ax =plt.subplots(1,3, figsize=(20,4))\n",
    "ax[0].set_ylim(-0.3, 0.4)\n",
    "ax[1].set_ylim(-0.3, 0.4)\n",
    "ax[2].set_ylim(-0.3, 0.4)\n",
    "\n",
    "sns.lineplot(df.p1, ax=ax[0])\n",
    "sns.lineplot(df.p2, ax=ax[1])\n",
    "sns.lineplot(df.p3, ax=ax[2])\n",
    "\n",
    "\n",
    "plt.show()"
   ]
  },
  {
   "attachments": {},
   "cell_type": "markdown",
   "metadata": {},
   "source": [
    "## Plotting Points Inside the Basin"
   ]
  },
  {
   "cell_type": "code",
   "execution_count": null,
   "metadata": {},
   "outputs": [],
   "source": [
    "fig, ax =plt.subplots(1,3, figsize=(20,4))\n",
    "ax[0].set_ylim(-0.3, 0.4)\n",
    "ax[1].set_ylim(-0.3, 0.4)\n",
    "ax[2].set_ylim(-0.3, 0.4)\n",
    "\n",
    "sns.lineplot(df.p4, ax=ax[0])\n",
    "sns.lineplot(df.p5, ax=ax[1])\n",
    "sns.lineplot(df.p6, ax=ax[2])\n",
    "\n",
    "plt.show()"
   ]
  },
  {
   "attachments": {},
   "cell_type": "markdown",
   "metadata": {},
   "source": [
    "## Plotting Points After the Basin"
   ]
  },
  {
   "cell_type": "code",
   "execution_count": null,
   "metadata": {},
   "outputs": [],
   "source": [
    "fig, ax =plt.subplots(1,3, figsize=(20,4))\n",
    "ax[0].set_ylim(-0.3, 0.4)\n",
    "ax[1].set_ylim(-0.3, 0.4)\n",
    "ax[2].set_ylim(-0.3, 0.4)\n",
    "\n",
    "sns.lineplot(df.p6, ax=ax[0])\n",
    "sns.lineplot(df.p7, ax=ax[1])\n",
    "sns.lineplot(df.p8, ax=ax[2])\n",
    "\n",
    "plt.show()"
   ]
  }
 ],
 "metadata": {
  "kernelspec": {
   "display_name": "Python 3",
   "language": "python",
   "name": "python3"
  },
  "language_info": {
   "codemirror_mode": {
    "name": "ipython",
    "version": 3
   },
   "file_extension": ".py",
   "mimetype": "text/x-python",
   "name": "python",
   "nbconvert_exporter": "python",
   "pygments_lexer": "ipython3",
   "version": "3.10.10"
  },
  "orig_nbformat": 4
 },
 "nbformat": 4,
 "nbformat_minor": 2
}
