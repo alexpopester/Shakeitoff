{
 "cells": [
  {
   "cell_type": "code",
   "execution_count": 1,
   "metadata": {},
   "outputs": [],
   "source": [
    "import pyvista as pv\n",
    "import numpy as np\n",
    "import matplotlib.pyplot as mt\n",
    "from matplotlib.colors import ListedColormap\n",
    "import vtk \n",
    "import vtkmodules \n"
   ]
  },
  {
   "cell_type": "code",
   "execution_count": 2,
   "metadata": {},
   "outputs": [],
   "source": [
    "# Converts a binary file of data to Vtk for the specific data sets of the 2006 IEE.\n",
    "# fileSource: String - Path to the file to convert\n",
    "# fileDestination: String - Path to the file to write  \n",
    "# Return: Void\n",
    "def binaryToVtk(fileSource, fileDestination):\n",
    "    # Reader to get the data from the file. This describes the on-disk file\n",
    "    # format so that VTK can parse it correctly.\n",
    "    reader = vtk.vtkImageReader()\n",
    "    reader.SetFileName(fileSource)\n",
    "    # There are three dimensions in the file (X, Y, and Z)\n",
    "    # Note that this file only stores the value for the X\n",
    "    # component of the velocity, but it does this over the\n",
    "    # whole 3D volume.\n",
    "    reader.SetFileDimensionality(3)\n",
    "\n",
    "    # There is one scalar field stored, and it is in big-endian floats\n",
    "    reader.SetDataScalarTypeToFloat()\n",
    "    reader.SetDataByteOrderToBigEndian()\n",
    "    reader.SetNumberOfScalarComponents(1)\n",
    "\n",
    "    # The first and last index of data values in X, Y, and Z\n",
    "    reader.SetDataExtent(0, 749, 0, 374, 0, 99)\n",
    "\n",
    "    # Picking an origin at zero, for no good reason\n",
    "    reader.SetDataOrigin(0, 0, 0)\n",
    "\n",
    "    # The data samples are 800 meters apart in X,Y,Z\n",
    "    reader.SetDataSpacing(800, 800, 800)\n",
    "    reader.Update()\n",
    "\n",
    "    # Check if the file exists\n",
    "    # Check if the file format is supported\n",
    "    # Get the output data object\n",
    "    output = reader.GetOutput()\n",
    "    # Print image properties\n",
    "    dimensions = output.GetDimensions()\n",
    "    data_type = output.GetScalarTypeAsString()\n",
    "    scalar_range = output.GetScalarRange()\n",
    "    # Flip the image over in Y to make the coordinate system match\n",
    "    # that of the data computation. The VTK image reader assumes\n",
    "    # pixel (0,0) is at the upper-left, which is left-handed.\n",
    "    reslice1 = vtk.vtkImageFlip()\n",
    "    reslice1.SetInputData(reader.GetOutput())\n",
    "    reslice1.SetFilteredAxis(1)\n",
    "    reslice1.Update()\n",
    "    # Write the data to a Structured Points file\n",
    "    writer = vtk.vtkStructuredPointsWriter()\n",
    "    writer.SetInputData(reslice1.GetOutput())\n",
    "    writer.SetFileName(fileDestination)\n",
    "    writer.SetFileTypeToBinary()\n",
    "    writer.Write()"
   ]
  },
  {
   "cell_type": "code",
   "execution_count": 3,
   "metadata": {},
   "outputs": [
    {
     "name": "stderr",
     "output_type": "stream",
     "text": [
      "\u001b[0m\u001b[31m2023-03-30 12:14:48.284 (   1.462s) [        FADC0740]    vtkImageReader2.cxx:578    ERR| vtkImageReader (0x559ea1edd390): Initialize: Could not open file TS21z_X_R2_008000.bin\u001b[0m\n",
      "ERROR:root:Initialize: Could not open file TS21z_X_R2_008000.bin\n",
      "ERROR:root:Initialize: Could not open file TS21z_Y_R2_008000.bin\n",
      "\u001b[0m\u001b[31m2023-03-30 12:14:49.360 (   2.539s) [        FADC0740]    vtkImageReader2.cxx:578    ERR| vtkImageReader (0x559ea1edd390): Initialize: Could not open file TS21z_Y_R2_008000.bin\u001b[0m\n",
      "ERROR:root:Initialize: Could not open file TS21z_Z_R2_008000.bin\n",
      "\u001b[0m\u001b[31m2023-03-30 12:14:50.391 (   3.569s) [        FADC0740]    vtkImageReader2.cxx:578    ERR| vtkImageReader (0x559ea1edd390): Initialize: Could not open file TS21z_Z_R2_008000.bin\u001b[0m\n"
     ]
    }
   ],
   "source": [
    "binaryToVtk(\"TS21z_X_R2_008000.bin\", \"FunctionX8000.vtk\")\n",
    "binaryToVtk(\"TS21z_Y_R2_008000.bin\", \"FunctionY8000.vtk\")\n",
    "binaryToVtk(\"TS21z_Z_R2_008000.bin\", \"FunctionZ8000.vtk\")"
   ]
  },
  {
   "cell_type": "code",
   "execution_count": 2,
   "metadata": {},
   "outputs": [],
   "source": [
    "xfiles1to20 = [\n",
    "    \"TS21z_X_R2_000100\",\n",
    "    \"TS21z_X_R2_001000\",\n",
    "    \"TS21z_X_R2_002000\",\n",
    "    \"TS21z_X_R2_003000\",\n",
    "    \"TS21z_X_R2_004000\",\n",
    "    \"TS21z_X_R2_005000\",\n",
    "    \"TS21z_X_R2_006000\",\n",
    "    \"TS21z_X_R2_007000\",\n",
    "    \"TS21z_X_R2_008000\",\n",
    "    \"TS21z_X_R2_009000\",\n",
    "    \"TS21z_X_R2_010000\",\n",
    "    \"TS21z_X_R2_011000\",\n",
    "    \"TS21z_X_R2_012000\",\n",
    "    \"TS21z_X_R2_013000\",\n",
    "    \"TS21z_X_R2_014000\",\n",
    "    \"TS21z_X_R2_015000\",\n",
    "    \"TS21z_X_R2_016000\",\n",
    "    \"TS21z_X_R2_017000\",\n",
    "    \"TS21z_X_R2_018000\",\n",
    "    \"TS21z_X_R2_019000\",\n",
    "    \"TS21z_X_R2_020000\"\n",
    "            ]"
   ]
  },
  {
   "cell_type": "code",
   "execution_count": 5,
   "metadata": {},
   "outputs": [
    {
     "name": "stderr",
     "output_type": "stream",
     "text": [
      "ERROR:root:Initialize: Could not open file x1-20/TS21z_X_R2_000100\n",
      "\u001b[0m\u001b[31m2023-03-30 12:14:51.481 (   4.660s) [        FADC0740]    vtkImageReader2.cxx:578    ERR| vtkImageReader (0x559ea1ee9440): Initialize: Could not open file x1-20/TS21z_X_R2_000100\u001b[0m\n",
      "ERROR:root:Unable to open file: x1-20vtk/TS21z_X_R2_000100.vtk\n",
      "\u001b[0m\u001b[31m2023-03-30 12:14:51.613 (   4.792s) [        FADC0740]      vtkDataWriter.cxx:187    ERR| vtkStructuredPointsWriter (0x559ea1ee3970): Unable to open file: x1-20vtk/TS21z_X_R2_000100.vtk\u001b[0m\n",
      "ERROR:root:Initialize: Could not open file x1-20/TS21z_X_R2_001000\n",
      "\u001b[0m\u001b[31m2023-03-30 12:14:51.616 (   4.794s) [        FADC0740]    vtkImageReader2.cxx:578    ERR| vtkImageReader (0x559ea1ee9630): Initialize: Could not open file x1-20/TS21z_X_R2_001000\u001b[0m\n",
      "ERROR:root:Unable to open file: x1-20vtk/TS21z_X_R2_001000.vtk\n",
      "\u001b[0m\u001b[31m2023-03-30 12:14:51.721 (   4.900s) [        FADC0740]      vtkDataWriter.cxx:187    ERR| vtkStructuredPointsWriter (0x559ea1eed610): Unable to open file: x1-20vtk/TS21z_X_R2_001000.vtk\u001b[0m\n",
      "ERROR:root:Initialize: Could not open file x1-20/TS21z_X_R2_002000\n",
      "\u001b[0m\u001b[31m2023-03-30 12:14:51.723 (   4.902s) [        FADC0740]    vtkImageReader2.cxx:578    ERR| vtkImageReader (0x559ea1ee7280): Initialize: Could not open file x1-20/TS21z_X_R2_002000\u001b[0m\n",
      "ERROR:root:Unable to open file: x1-20vtk/TS21z_X_R2_002000.vtk\n",
      "\u001b[0m\u001b[31m2023-03-30 12:14:51.824 (   5.003s) [        FADC0740]      vtkDataWriter.cxx:187    ERR| vtkStructuredPointsWriter (0x559ea1eefe00): Unable to open file: x1-20vtk/TS21z_X_R2_002000.vtk\u001b[0m\n",
      "ERROR:root:Initialize: Could not open file x1-20/TS21z_X_R2_003000\n",
      "\u001b[0m\u001b[31m2023-03-30 12:14:51.826 (   5.005s) [        FADC0740]    vtkImageReader2.cxx:578    ERR| vtkImageReader (0x559ea1edf340): Initialize: Could not open file x1-20/TS21z_X_R2_003000\u001b[0m\n",
      "ERROR:root:Unable to open file: x1-20vtk/TS21z_X_R2_003000.vtk\n",
      "\u001b[0m\u001b[31m2023-03-30 12:14:51.929 (   5.107s) [        FADC0740]      vtkDataWriter.cxx:187    ERR| vtkStructuredPointsWriter (0x559ea1ee37b0): Unable to open file: x1-20vtk/TS21z_X_R2_003000.vtk\u001b[0m\n",
      "ERROR:root:Initialize: Could not open file x1-20/TS21z_X_R2_004000\n",
      "\u001b[0m\u001b[31m2023-03-30 12:14:51.931 (   5.110s) [        FADC0740]    vtkImageReader2.cxx:578    ERR| vtkImageReader (0x559ea1ef4fe0): Initialize: Could not open file x1-20/TS21z_X_R2_004000\u001b[0m\n",
      "ERROR:root:Unable to open file: x1-20vtk/TS21z_X_R2_004000.vtk\n",
      "\u001b[0m\u001b[31m2023-03-30 12:14:52.032 (   5.211s) [        FADC0740]      vtkDataWriter.cxx:187    ERR| vtkStructuredPointsWriter (0x559ea1eee9f0): Unable to open file: x1-20vtk/TS21z_X_R2_004000.vtk\u001b[0m\n",
      "ERROR:root:Initialize: Could not open file x1-20/TS21z_X_R2_005000\n",
      "\u001b[0m\u001b[31m2023-03-30 12:14:52.034 (   5.213s) [        FADC0740]    vtkImageReader2.cxx:578    ERR| vtkImageReader (0x559ea1ef5ba0): Initialize: Could not open file x1-20/TS21z_X_R2_005000\u001b[0m\n",
      "ERROR:root:Unable to open file: x1-20vtk/TS21z_X_R2_005000.vtk\n",
      "\u001b[0m\u001b[31m2023-03-30 12:14:52.137 (   5.316s) [        FADC0740]      vtkDataWriter.cxx:187    ERR| vtkStructuredPointsWriter (0x559ea1ee3970): Unable to open file: x1-20vtk/TS21z_X_R2_005000.vtk\u001b[0m\n",
      "ERROR:root:Initialize: Could not open file x1-20/TS21z_X_R2_006000\n",
      "\u001b[0m\u001b[31m2023-03-30 12:14:52.139 (   5.318s) [        FADC0740]    vtkImageReader2.cxx:578    ERR| vtkImageReader (0x559ea1eeda90): Initialize: Could not open file x1-20/TS21z_X_R2_006000\u001b[0m\n",
      "ERROR:root:Unable to open file: x1-20vtk/TS21z_X_R2_006000.vtk\n",
      "\u001b[0m\u001b[31m2023-03-30 12:14:52.243 (   5.422s) [        FADC0740]      vtkDataWriter.cxx:187    ERR| vtkStructuredPointsWriter (0x559ea1eed610): Unable to open file: x1-20vtk/TS21z_X_R2_006000.vtk\u001b[0m\n",
      "ERROR:root:Initialize: Could not open file x1-20/TS21z_X_R2_007000\n",
      "\u001b[0m\u001b[31m2023-03-30 12:14:52.246 (   5.425s) [        FADC0740]    vtkImageReader2.cxx:578    ERR| vtkImageReader (0x559ea1edf620): Initialize: Could not open file x1-20/TS21z_X_R2_007000\u001b[0m\n",
      "ERROR:root:Unable to open file: x1-20vtk/TS21z_X_R2_007000.vtk\n",
      "\u001b[0m\u001b[31m2023-03-30 12:14:52.356 (   5.534s) [        FADC0740]      vtkDataWriter.cxx:187    ERR| vtkStructuredPointsWriter (0x559ea1eefe00): Unable to open file: x1-20vtk/TS21z_X_R2_007000.vtk\u001b[0m\n",
      "ERROR:root:Initialize: Could not open file x1-20/TS21z_X_R2_008000\n",
      "\u001b[0m\u001b[31m2023-03-30 12:14:52.357 (   5.536s) [        FADC0740]    vtkImageReader2.cxx:578    ERR| vtkImageReader (0x559ea1ee42f0): Initialize: Could not open file x1-20/TS21z_X_R2_008000\u001b[0m\n",
      "ERROR:root:Unable to open file: x1-20vtk/TS21z_X_R2_008000.vtk\n",
      "\u001b[0m\u001b[31m2023-03-30 12:14:52.457 (   5.636s) [        FADC0740]      vtkDataWriter.cxx:187    ERR| vtkStructuredPointsWriter (0x559ea1ee37b0): Unable to open file: x1-20vtk/TS21z_X_R2_008000.vtk\u001b[0m\n",
      "ERROR:root:Initialize: Could not open file x1-20/TS21z_X_R2_009000\n",
      "\u001b[0m\u001b[31m2023-03-30 12:14:52.459 (   5.638s) [        FADC0740]    vtkImageReader2.cxx:578    ERR| vtkImageReader (0x559ea1ef07d0): Initialize: Could not open file x1-20/TS21z_X_R2_009000\u001b[0m\n",
      "ERROR:root:Unable to open file: x1-20vtk/TS21z_X_R2_009000.vtk\n",
      "\u001b[0m\u001b[31m2023-03-30 12:14:52.566 (   5.744s) [        FADC0740]      vtkDataWriter.cxx:187    ERR| vtkStructuredPointsWriter (0x559ea1eee9f0): Unable to open file: x1-20vtk/TS21z_X_R2_009000.vtk\u001b[0m\n",
      "ERROR:root:Initialize: Could not open file x1-20/TS21z_X_R2_010000\n",
      "\u001b[0m\u001b[31m2023-03-30 12:14:52.568 (   5.747s) [        FADC0740]    vtkImageReader2.cxx:578    ERR| vtkImageReader (0x559ea1edb800): Initialize: Could not open file x1-20/TS21z_X_R2_010000\u001b[0m\n",
      "ERROR:root:Unable to open file: x1-20vtk/TS21z_X_R2_010000.vtk\n",
      "\u001b[0m\u001b[31m2023-03-30 12:14:52.677 (   5.855s) [        FADC0740]      vtkDataWriter.cxx:187    ERR| vtkStructuredPointsWriter (0x559ea1ee3970): Unable to open file: x1-20vtk/TS21z_X_R2_010000.vtk\u001b[0m\n",
      "ERROR:root:Initialize: Could not open file x1-20/TS21z_X_R2_011000\n",
      "\u001b[0m\u001b[31m2023-03-30 12:14:52.679 (   5.857s) [        FADC0740]    vtkImageReader2.cxx:578    ERR| vtkImageReader (0x559ea1eee560): Initialize: Could not open file x1-20/TS21z_X_R2_011000\u001b[0m\n",
      "ERROR:root:Unable to open file: x1-20vtk/TS21z_X_R2_011000.vtk\n",
      "\u001b[0m\u001b[31m2023-03-30 12:14:52.785 (   5.963s) [        FADC0740]      vtkDataWriter.cxx:187    ERR| vtkStructuredPointsWriter (0x559ea1eed610): Unable to open file: x1-20vtk/TS21z_X_R2_011000.vtk\u001b[0m\n",
      "ERROR:root:Initialize: Could not open file x1-20/TS21z_X_R2_012000\n",
      "\u001b[0m\u001b[31m2023-03-30 12:14:52.787 (   5.965s) [        FADC0740]    vtkImageReader2.cxx:578    ERR| vtkImageReader (0x559ea1ef1ef0): Initialize: Could not open file x1-20/TS21z_X_R2_012000\u001b[0m\n",
      "ERROR:root:Unable to open file: x1-20vtk/TS21z_X_R2_012000.vtk\n",
      "\u001b[0m\u001b[31m2023-03-30 12:14:52.893 (   6.071s) [        FADC0740]      vtkDataWriter.cxx:187    ERR| vtkStructuredPointsWriter (0x559ea1eefe00): Unable to open file: x1-20vtk/TS21z_X_R2_012000.vtk\u001b[0m\n",
      "ERROR:root:Initialize: Could not open file x1-20/TS21z_X_R2_013000\n",
      "\u001b[0m\u001b[31m2023-03-30 12:14:52.895 (   6.073s) [        FADC0740]    vtkImageReader2.cxx:578    ERR| vtkImageReader (0x559ea1ee79b0): Initialize: Could not open file x1-20/TS21z_X_R2_013000\u001b[0m\n",
      "ERROR:root:Unable to open file: x1-20vtk/TS21z_X_R2_013000.vtk\n",
      "\u001b[0m\u001b[31m2023-03-30 12:14:52.994 (   6.172s) [        FADC0740]      vtkDataWriter.cxx:187    ERR| vtkStructuredPointsWriter (0x559ea1ee37b0): Unable to open file: x1-20vtk/TS21z_X_R2_013000.vtk\u001b[0m\n",
      "ERROR:root:Initialize: Could not open file x1-20/TS21z_X_R2_014000\n",
      "\u001b[0m\u001b[31m2023-03-30 12:14:52.996 (   6.175s) [        FADC0740]    vtkImageReader2.cxx:578    ERR| vtkImageReader (0x559ea1edf610): Initialize: Could not open file x1-20/TS21z_X_R2_014000\u001b[0m\n",
      "ERROR:root:Unable to open file: x1-20vtk/TS21z_X_R2_014000.vtk\n",
      "\u001b[0m\u001b[31m2023-03-30 12:14:53.102 (   6.280s) [        FADC0740]      vtkDataWriter.cxx:187    ERR| vtkStructuredPointsWriter (0x559ea1eee9f0): Unable to open file: x1-20vtk/TS21z_X_R2_014000.vtk\u001b[0m\n",
      "ERROR:root:Initialize: Could not open file x1-20/TS21z_X_R2_015000\n",
      "\u001b[0m\u001b[31m2023-03-30 12:14:53.104 (   6.282s) [        FADC0740]    vtkImageReader2.cxx:578    ERR| vtkImageReader (0x559ea1eebb00): Initialize: Could not open file x1-20/TS21z_X_R2_015000\u001b[0m\n",
      "ERROR:root:Unable to open file: x1-20vtk/TS21z_X_R2_015000.vtk\n",
      "\u001b[0m\u001b[31m2023-03-30 12:14:53.208 (   6.386s) [        FADC0740]      vtkDataWriter.cxx:187    ERR| vtkStructuredPointsWriter (0x559ea1ee3970): Unable to open file: x1-20vtk/TS21z_X_R2_015000.vtk\u001b[0m\n",
      "ERROR:root:Initialize: Could not open file x1-20/TS21z_X_R2_016000\n",
      "\u001b[0m\u001b[31m2023-03-30 12:14:53.211 (   6.390s) [        FADC0740]    vtkImageReader2.cxx:578    ERR| vtkImageReader (0x559ea1edb390): Initialize: Could not open file x1-20/TS21z_X_R2_016000\u001b[0m\n",
      "ERROR:root:Unable to open file: x1-20vtk/TS21z_X_R2_016000.vtk\n",
      "\u001b[0m\u001b[31m2023-03-30 12:14:53.332 (   6.511s) [        FADC0740]      vtkDataWriter.cxx:187    ERR| vtkStructuredPointsWriter (0x559ea1eed610): Unable to open file: x1-20vtk/TS21z_X_R2_016000.vtk\u001b[0m\n",
      "ERROR:root:Initialize: Could not open file x1-20/TS21z_X_R2_017000\n",
      "\u001b[0m\u001b[31m2023-03-30 12:14:53.334 (   6.513s) [        FADC0740]    vtkImageReader2.cxx:578    ERR| vtkImageReader (0x559ea1ee4150): Initialize: Could not open file x1-20/TS21z_X_R2_017000\u001b[0m\n",
      "ERROR:root:Unable to open file: x1-20vtk/TS21z_X_R2_017000.vtk\n",
      "\u001b[0m\u001b[31m2023-03-30 12:14:53.434 (   6.612s) [        FADC0740]      vtkDataWriter.cxx:187    ERR| vtkStructuredPointsWriter (0x559ea1eefe00): Unable to open file: x1-20vtk/TS21z_X_R2_017000.vtk\u001b[0m\n",
      "ERROR:root:Initialize: Could not open file x1-20/TS21z_X_R2_018000\n",
      "\u001b[0m\u001b[31m2023-03-30 12:14:53.436 (   6.615s) [        FADC0740]    vtkImageReader2.cxx:578    ERR| vtkImageReader (0x559ea1edf930): Initialize: Could not open file x1-20/TS21z_X_R2_018000\u001b[0m\n",
      "ERROR:root:Unable to open file: x1-20vtk/TS21z_X_R2_018000.vtk\n",
      "\u001b[0m\u001b[31m2023-03-30 12:14:53.539 (   6.718s) [        FADC0740]      vtkDataWriter.cxx:187    ERR| vtkStructuredPointsWriter (0x559ea1ee37b0): Unable to open file: x1-20vtk/TS21z_X_R2_018000.vtk\u001b[0m\n",
      "ERROR:root:Initialize: Could not open file x1-20/TS21z_X_R2_019000\n",
      "\u001b[0m\u001b[31m2023-03-30 12:14:53.542 (   6.720s) [        FADC0740]    vtkImageReader2.cxx:578    ERR| vtkImageReader (0x559ea1eeb810): Initialize: Could not open file x1-20/TS21z_X_R2_019000\u001b[0m\n",
      "ERROR:root:Unable to open file: x1-20vtk/TS21z_X_R2_019000.vtk\n",
      "\u001b[0m\u001b[31m2023-03-30 12:14:53.641 (   6.820s) [        FADC0740]      vtkDataWriter.cxx:187    ERR| vtkStructuredPointsWriter (0x559ea1eee9f0): Unable to open file: x1-20vtk/TS21z_X_R2_019000.vtk\u001b[0m\n",
      "ERROR:root:Initialize: Could not open file x1-20/TS21z_X_R2_020000\n",
      "\u001b[0m\u001b[31m2023-03-30 12:14:53.643 (   6.822s) [        FADC0740]    vtkImageReader2.cxx:578    ERR| vtkImageReader (0x559ea1ef4140): Initialize: Could not open file x1-20/TS21z_X_R2_020000\u001b[0m\n",
      "ERROR:root:Unable to open file: x1-20vtk/TS21z_X_R2_020000.vtk\n",
      "\u001b[0m\u001b[31m2023-03-30 12:14:53.743 (   6.922s) [        FADC0740]      vtkDataWriter.cxx:187    ERR| vtkStructuredPointsWriter (0x559ea1ee3970): Unable to open file: x1-20vtk/TS21z_X_R2_020000.vtk\u001b[0m\n"
     ]
    }
   ],
   "source": [
    "# Create Vtk files from time stamps of 100 - 20000 for the x data.\n",
    "for item in xfiles1to20:\n",
    "    binaryToVtk(\"x1-20/\"+item,\"x1-20vtk/\"+item+\".vtk\")"
   ]
  },
  {
   "cell_type": "code",
   "execution_count": 6,
   "metadata": {},
   "outputs": [
    {
     "name": "stdout",
     "output_type": "stream",
     "text": [
      "0.59702307\n",
      "-0.6680263\n"
     ]
    }
   ],
   "source": [
    "data = pv.read(\"../x1-20vtk/TS21z_X_R2_008000.vtk\")\n",
    "print(max(data.point_data[\"ImageFile\"]))\n",
    "print(min(data.point_data[\"ImageFile\"]))"
   ]
  },
  {
   "cell_type": "code",
   "execution_count": 7,
   "metadata": {},
   "outputs": [],
   "source": [
    "data = pv.read(\"../x1-20vtk/TS21z_X_R2_000100.vtk\")\n",
    "plotter = pv.Plotter(off_screen=True) \n",
    "plotter.add_mesh(data, cmap=\"seismic\", clim=[-0.6680263,0.59702307])\n",
    "\n",
    "plotter.open_gif(\"x1-20.gif\")\n",
    "\n",
    "pts = data.points.copy()\n",
    "\n",
    "nframe = 21\n",
    "for item in xfiles1to20[1:]:\n",
    "    data = pv.read(\"../x1-20vtk/\"+item+\".vtk\")\n",
    "    plotter.update_scalars(data.point_data[\"ImageFile\"]) \n",
    "    plotter.write_frame()\n",
    "\n",
    "plotter.close()"
   ]
  },
  {
   "cell_type": "code",
   "execution_count": 8,
   "metadata": {},
   "outputs": [
    {
     "data": {
      "application/vnd.jupyter.widget-view+json": {
       "model_id": "51a7de6cc6614d739833bd88859f7a0e",
       "version_major": 2,
       "version_minor": 0
      },
      "text/plain": [
       "Widget(value=\"<iframe src='http://localhost:37013/index.html?ui=P_0x7fc9c0f5e590_0&reconnect=auto' style='widt…"
      ]
     },
     "metadata": {},
     "output_type": "display_data"
    }
   ],
   "source": [
    "d = pv.read(\"../TS21VelocityMesh_VS_R2.vtk\")\n",
    "n = np.array(d)\n",
    "plotter = pv.Plotter()\n",
    "contours = d.contour(3,rng=(611,2000))\n",
    "plotter.add_mesh(contours, cmap=\"gray\")\n",
    "plotter.show()"
   ]
  },
  {
   "cell_type": "code",
   "execution_count": 9,
   "metadata": {},
   "outputs": [
    {
     "data": {
      "application/vnd.jupyter.widget-view+json": {
       "model_id": "e8b1f6cdc0b94a1ab42c076dbd8bf7d1",
       "version_major": 2,
       "version_minor": 0
      },
      "text/plain": [
       "Widget(value=\"<iframe src='http://localhost:43155/index.html?ui=P_0x7fb43021e290_6&reconnect=auto' style='widt…"
      ]
     },
     "metadata": {},
     "output_type": "display_data"
    }
   ],
   "source": [
    "plotter = pv.Plotter(off_screen=True) \n",
    "data2 = pv.read(\"../TS21VelocityMesh_VS_R2.vtk\")\n",
    "\n",
    "scale = 4\n",
    "scale_matrix = np.diag([scale,scale,scale])\n",
    "data2 = data2.scale((4,4,4))\n",
    "data2 = data2.threshold(2500, invert=True)\n",
    "plotter.add_mesh(data2, color=\"green\")\n",
    "\n",
    "data = pv.read(\"../x1-20vtk/TS21z_X_R2_008000.vtk\")\n",
    "mesh = plotter.add_mesh(data, cmap=\"seismic\", opacity=0.5)\n",
    "plotter.show()"
   ]
  },
  {
   "attachments": {},
   "cell_type": "markdown",
   "metadata": {},
   "source": [
    "### Gif Creation of wave motion as Iso Volumes"
   ]
  },
  {
   "cell_type": "code",
   "execution_count": 16,
   "metadata": {},
   "outputs": [],
   "source": [
    "data = pv.read(\"../x1-20vtk/TS21z_X_R2_001000.vtk\")\n",
    "plotter = pv.Plotter(off_screen=True) \n",
    "\n",
    "iso1 = data.threshold(0.01)\n",
    "iso2 = data.threshold(-0.01, invert=True)\n",
    "\n",
    "mesh1 = plotter.add_mesh(iso1,lighting=False, cmap=\"seismic\", opacity=0.5,clim=[-0.6680263,0.59702307])\n",
    "mesh2 = plotter.add_mesh(iso2,lighting=False, cmap=\"seismic\", opacity=0.5,clim=[-0.6680263,0.59702307])\n",
    "\n",
    "plotter.open_gif(\"x1-20Iso.gif\")\n",
    "\n",
    "for item in xfiles1to20[2:]:\n",
    "    plotter.clear_actors()\n",
    "    data = pv.read(\"../x1-20vtk/\"+item+\".vtk\")\n",
    "    iso1 = data.threshold(0.01)\n",
    "    iso2 = data.threshold(-0.01, invert=True)\n",
    "    mesh1 = plotter.add_mesh(iso1,lighting=False, cmap=\"seismic\", opacity=0.5,clim=[-0.6680263,0.59702307])\n",
    "    mesh2 = plotter.add_mesh(iso2,lighting=False, cmap=\"seismic\", opacity=0.5,clim=[-0.6680263,0.59702307])\n",
    "    plotter.write_frame()\n",
    "\n",
    "plotter.close()"
   ]
  },
  {
   "attachments": {},
   "cell_type": "markdown",
   "metadata": {},
   "source": [
    "### Gif creation of Waves with Land Features overlayed on top\n"
   ]
  },
  {
   "cell_type": "code",
   "execution_count": 14,
   "metadata": {},
   "outputs": [],
   "source": [
    "plotter = pv.Plotter(off_screen=True) \n",
    "landFeatures = pv.read(\"../TS21VelocityMesh_VS_R2.vtk\")\n",
    "\n",
    "scale = 4\n",
    "scale_matrix = np.diag([scale,scale,scale])\n",
    "landFeatures = landFeatures.scale((4,4,4))\n",
    "\n",
    "landFeatures = landFeatures.threshold(2500, invert=True)\n",
    "plotter.add_mesh(landFeatures, color=\"green\")\n",
    "\n",
    "\n",
    "waves = pv.read(\"../x1-20vtk/TS21z_X_R2_000100.vtk\")\n",
    "mesh = plotter.add_mesh(waves, cmap=\"seismic\", opacity=0.5, clim=[-0.6680263,0.59702307])\n",
    "\n",
    "plotter.open_gif(\"x1-20OverLand.gif\")\n",
    "\n",
    "for item in xfiles1to20[1:]:\n",
    "    plotter.clear_actors()\n",
    "    waves = pv.read(\"../x1-20vtk/\"+item+\".vtk\")\n",
    "    plotter.add_mesh(landFeatures, color=\"green\")\n",
    "    plotter.add_mesh(waves, cmap=\"seismic\", opacity=0.5, clim=[-0.6680263,0.59702307])\n",
    "    plotter.write_frame()\n",
    "\n",
    "plotter.close()\n"
   ]
  }
 ],
 "metadata": {
  "kernelspec": {
   "display_name": "Python 3",
   "language": "python",
   "name": "python3"
  },
  "language_info": {
   "codemirror_mode": {
    "name": "ipython",
    "version": 3
   },
   "file_extension": ".py",
   "mimetype": "text/x-python",
   "name": "python",
   "nbconvert_exporter": "python",
   "pygments_lexer": "ipython3",
   "version": "3.10.10"
  },
  "orig_nbformat": 4
 },
 "nbformat": 4,
 "nbformat_minor": 2
}
