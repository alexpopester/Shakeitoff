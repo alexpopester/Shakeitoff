{
 "cells": [
  {
   "cell_type": "code",
   "execution_count": null,
   "metadata": {},
   "outputs": [],
   "source": [
    "import pyvista as pv\n",
    "import numpy as np\n",
    "import matplotlib.pyplot as mt\n",
    "from matplotlib.colors import ListedColormap\n",
    "import vtk \n",
    "import vtkmodules \n",
    "import gzip\n"
   ]
  },
  {
   "cell_type": "code",
   "execution_count": null,
   "metadata": {},
   "outputs": [],
   "source": [
    "XFILES1TO20 = [\n",
    "    \"TS21z_X_R2_000100\",\n",
    "    \"TS21z_X_R2_001000\",\n",
    "    \"TS21z_X_R2_002000\",\n",
    "    \"TS21z_X_R2_003000\",\n",
    "    \"TS21z_X_R2_004000\",\n",
    "    \"TS21z_X_R2_005000\",\n",
    "    \"TS21z_X_R2_006000\",\n",
    "    \"TS21z_X_R2_007000\",\n",
    "    \"TS21z_X_R2_008000\",\n",
    "    \"TS21z_X_R2_009000\",\n",
    "    \"TS21z_X_R2_010000\",\n",
    "    \"TS21z_X_R2_011000\",\n",
    "    \"TS21z_X_R2_012000\",\n",
    "    \"TS21z_X_R2_013000\",\n",
    "    \"TS21z_X_R2_014000\",\n",
    "    \"TS21z_X_R2_015000\",\n",
    "    \"TS21z_X_R2_016000\",\n",
    "    \"TS21z_X_R2_017000\",\n",
    "    \"TS21z_X_R2_018000\",\n",
    "    \"TS21z_X_R2_019000\",\n",
    "    \"TS21z_X_R2_020000\"\n",
    "            ]"
   ]
  },
  {
   "cell_type": "code",
   "execution_count": null,
   "metadata": {},
   "outputs": [],
   "source": [
    "# loading zip file and creating a zip object\n",
    "# for file in XFILES1TO20:\n",
    "#     with gzip.open(f'.\\\\zipped\\\\{file}.gz', 'rb') as f:\n",
    "#         file_content = f.read()\n",
    "\n",
    "#     f = open(f\".\\\\data\\\\{file}.bin\", \"wb\")\n",
    "#     f.write(file_content)\n",
    "#     f.close()"
   ]
  },
  {
   "cell_type": "code",
   "execution_count": null,
   "metadata": {},
   "outputs": [],
   "source": [
    "stuff = np.fromfile('.\\\\data\\\\TS21z_X_R2_008000.bin')\n",
    "type(stuff)"
   ]
  },
  {
   "cell_type": "markdown",
   "metadata": {},
   "source": []
  },
  {
   "cell_type": "code",
   "execution_count": null,
   "metadata": {},
   "outputs": [],
   "source": [
    "# Converts a binary file of data to Vtk for the specific data sets of the 2006 IEE.\n",
    "# fileSource: String - Path to the file to convert\n",
    "# fileDestination: String - Path to the file to write  \n",
    "# Return: Void\n",
    "def binaryToVtk(fileSource, fileDestination):\n",
    "    # Reader to get the data from the file. This describes the on-disk file\n",
    "    # format so that VTK can parse it correctly.\n",
    "    reader = vtk.vtkImageReader()\n",
    "    reader.SetFileName(fileSource)\n",
    "    # There are three dimensions in the file (X, Y, and Z)\n",
    "    # Note that this file only stores the value for the X\n",
    "    # component of the velocity, but it does this over the\n",
    "    # whole 3D volume.\n",
    "    reader.SetFileDimensionality(3)\n",
    "\n",
    "    # There is one scalar field stored, and it is in big-endian floats\n",
    "    reader.SetDataScalarTypeToFloat()\n",
    "    reader.SetDataByteOrderToBigEndian()\n",
    "    reader.SetNumberOfScalarComponents(1)\n",
    "\n",
    "    # The first and last index of data values in X, Y, and Z\n",
    "    reader.SetDataExtent(0, 749, 0, 374, 0, 99)\n",
    "\n",
    "    # Picking an origin at zero, for no good reason\n",
    "    reader.SetDataOrigin(0, 0, 0)\n",
    "\n",
    "    # The data samples are 800 meters apart in X,Y,Z\n",
    "    reader.SetDataSpacing(800, 800, 800)\n",
    "    reader.Update()\n",
    "\n",
    "    # Check if the file exists\n",
    "    # Check if the file format is supported\n",
    "    # Get the output data object\n",
    "    output = reader.GetOutput()\n",
    "    # Print image properties\n",
    "    dimensions = output.GetDimensions()\n",
    "    data_type = output.GetScalarTypeAsString()\n",
    "    scalar_range = output.GetScalarRange()\n",
    "    # Flip the image over in Y to make the coordinate system match\n",
    "    # that of the data computation. The VTK image reader assumes\n",
    "    # pixel (0,0) is at the upper-left, which is left-handed.\n",
    "    reslice1 = vtk.vtkImageFlip()\n",
    "    reslice1.SetInputData(reader.GetOutput())\n",
    "    reslice1.SetFilteredAxis(1)\n",
    "    reslice1.Update()\n",
    "    # Write the data to a Structured Points file\n",
    "    writer = vtk.vtkStructuredPointsWriter()\n",
    "    writer.SetInputData(reslice1.GetOutput())\n",
    "    writer.SetFileName(fileDestination)\n",
    "    writer.SetFileTypeToBinary()\n",
    "    writer.Write()"
   ]
  },
  {
   "cell_type": "code",
   "execution_count": 3,
   "metadata": {},
   "outputs": [],
   "source": [
    "binaryToVtk(\"TS21z_X_R2_008000.bin\", \"FunctionX8000.vtk\")\n",
    "binaryToVtk(\"TS21z_Y_R2_008000.bin\", \"FunctionY8000.vtk\")\n",
    "binaryToVtk(\"TS21z_Z_R2_008000.bin\", \"FunctionZ8000.vtk\")"
   ]
  },
  {
   "cell_type": "code",
   "execution_count": 5,
   "metadata": {},
   "outputs": [],
   "source": [
    "# Create Vtk files from time stamps of 100 - 20000 for the x data.\n",
    "for item in xfiles1to20:\n",
    "    binaryToVtk(\"x1-20/\"+item,\"x1-20vtk/\"+item+\".vtk\")"
   ]
  },
  {
   "cell_type": "code",
   "execution_count": 6,
   "metadata": {},
   "outputs": [
    {
     "name": "stdout",
     "output_type": "stream",
     "text": [
      "0.59702307\n",
      "-0.6680263\n"
     ]
    }
   ],
   "source": [
    "data = pv.read(\"../x1-20vtk/TS21z_X_R2_008000.vtk\")\n",
    "print(max(data.point_data[\"ImageFile\"]))\n",
    "print(min(data.point_data[\"ImageFile\"]))"
   ]
  },
  {
   "cell_type": "code",
   "execution_count": 7,
   "metadata": {},
   "outputs": [],
   "source": [
    "data = pv.read(\"../x1-20vtk/TS21z_X_R2_000100.vtk\")\n",
    "plotter = pv.Plotter(off_screen=True) \n",
    "plotter.add_mesh(data, cmap=\"seismic\", clim=[-0.6680263,0.59702307])\n",
    "\n",
    "plotter.open_gif(\"x1-20.gif\")\n",
    "\n",
    "pts = data.points.copy()\n",
    "\n",
    "nframe = 21\n",
    "for item in xfiles1to20[1:]:\n",
    "    data = pv.read(\"../x1-20vtk/\"+item+\".vtk\")\n",
    "    plotter.update_scalars(data.point_data[\"ImageFile\"]) \n",
    "    plotter.write_frame()\n",
    "\n",
    "plotter.close()"
   ]
  },
  {
   "cell_type": "code",
   "execution_count": 8,
   "metadata": {},
   "outputs": [
    {
     "data": {
      "application/vnd.jupyter.widget-view+json": {
       "model_id": "51a7de6cc6614d739833bd88859f7a0e",
       "version_major": 2,
       "version_minor": 0
      },
      "text/plain": [
       "Widget(value=\"<iframe src='http://localhost:37013/index.html?ui=P_0x7fc9c0f5e590_0&reconnect=auto' style='widt…"
      ]
     },
     "metadata": {},
     "output_type": "display_data"
    }
   ],
   "source": [
    "d = pv.read(\"../TS21VelocityMesh_VS_R2.vtk\")\n",
    "n = np.array(d)\n",
    "plotter = pv.Plotter()\n",
    "contours = d.contour(3,rng=(611,2000))\n",
    "plotter.add_mesh(contours, cmap=\"gray\")\n",
    "plotter.show()"
   ]
  },
  {
   "cell_type": "code",
   "execution_count": 9,
   "metadata": {},
   "outputs": [
    {
     "data": {
      "application/vnd.jupyter.widget-view+json": {
       "model_id": "e8b1f6cdc0b94a1ab42c076dbd8bf7d1",
       "version_major": 2,
       "version_minor": 0
      },
      "text/plain": [
       "Widget(value=\"<iframe src='http://localhost:43155/index.html?ui=P_0x7fb43021e290_6&reconnect=auto' style='widt…"
      ]
     },
     "metadata": {},
     "output_type": "display_data"
    }
   ],
   "source": [
    "plotter = pv.Plotter(off_screen=True) \n",
    "data2 = pv.read(\"../TS21VelocityMesh_VS_R2.vtk\")\n",
    "\n",
    "scale = 4\n",
    "scale_matrix = np.diag([scale,scale,scale])\n",
    "data2 = data2.scale((4,4,4))\n",
    "data2 = data2.threshold(2500, invert=True)\n",
    "plotter.add_mesh(data2, color=\"green\")\n",
    "\n",
    "data = pv.read(\"../x1-20vtk/TS21z_X_R2_008000.vtk\")\n",
    "mesh = plotter.add_mesh(data, cmap=\"seismic\", opacity=0.5)\n",
    "plotter.show()"
   ]
  },
  {
   "attachments": {},
   "cell_type": "markdown",
   "metadata": {},
   "source": [
    "### Gif Creation of wave motion as Iso Volumes"
   ]
  },
  {
   "cell_type": "code",
   "execution_count": 16,
   "metadata": {},
   "outputs": [],
   "source": [
    "data = pv.read(\"../x1-20vtk/TS21z_X_R2_001000.vtk\")\n",
    "plotter = pv.Plotter(off_screen=True) \n",
    "\n",
    "iso1 = data.threshold(0.01)\n",
    "iso2 = data.threshold(-0.01, invert=True)\n",
    "\n",
    "mesh1 = plotter.add_mesh(iso1,lighting=False, cmap=\"seismic\", opacity=0.5,clim=[-0.6680263,0.59702307])\n",
    "mesh2 = plotter.add_mesh(iso2,lighting=False, cmap=\"seismic\", opacity=0.5,clim=[-0.6680263,0.59702307])\n",
    "\n",
    "plotter.open_gif(\"x1-20Iso.gif\")\n",
    "\n",
    "for item in xfiles1to20[2:]:\n",
    "    plotter.clear_actors()\n",
    "    data = pv.read(\"../x1-20vtk/\"+item+\".vtk\")\n",
    "    iso1 = data.threshold(0.01)\n",
    "    iso2 = data.threshold(-0.01, invert=True)\n",
    "    mesh1 = plotter.add_mesh(iso1,lighting=False, cmap=\"seismic\", opacity=0.5,clim=[-0.6680263,0.59702307])\n",
    "    mesh2 = plotter.add_mesh(iso2,lighting=False, cmap=\"seismic\", opacity=0.5,clim=[-0.6680263,0.59702307])\n",
    "    plotter.write_frame()\n",
    "\n",
    "plotter.close()"
   ]
  },
  {
   "attachments": {},
   "cell_type": "markdown",
   "metadata": {},
   "source": [
    "### Gif creation of Waves with Land Features overlayed on top\n"
   ]
  },
  {
   "cell_type": "code",
   "execution_count": 14,
   "metadata": {},
   "outputs": [],
   "source": [
    "plotter = pv.Plotter(off_screen=True) \n",
    "landFeatures = pv.read(\"../TS21VelocityMesh_VS_R2.vtk\")\n",
    "\n",
    "scale = 4\n",
    "scale_matrix = np.diag([scale,scale,scale])\n",
    "landFeatures = landFeatures.scale((4,4,4))\n",
    "\n",
    "landFeatures = landFeatures.threshold(2500, invert=True)\n",
    "plotter.add_mesh(landFeatures, color=\"green\")\n",
    "\n",
    "\n",
    "waves = pv.read(\"../x1-20vtk/TS21z_X_R2_000100.vtk\")\n",
    "mesh = plotter.add_mesh(waves, cmap=\"seismic\", opacity=0.5, clim=[-0.6680263,0.59702307])\n",
    "\n",
    "plotter.open_gif(\"x1-20OverLand.gif\")\n",
    "\n",
    "for item in xfiles1to20[1:]:\n",
    "    plotter.clear_actors()\n",
    "    waves = pv.read(\"../x1-20vtk/\"+item+\".vtk\")\n",
    "    plotter.add_mesh(landFeatures, color=\"green\")\n",
    "    plotter.add_mesh(waves, cmap=\"seismic\", opacity=0.5, clim=[-0.6680263,0.59702307])\n",
    "    plotter.write_frame()\n",
    "\n",
    "plotter.close()\n"
   "execution_count": null,
   "metadata": {},
   "outputs": [],
   "source": [
   ]
  }
 ],
 "metadata": {
  "kernelspec": {
   "display_name": "Python 3",
   "language": "python",
   "name": "python3"
  },
  "language_info": {
   "codemirror_mode": {
    "name": "ipython",
    "version": 3
   },
   "file_extension": ".py",
   "mimetype": "text/x-python",
   "name": "python",
   "nbconvert_exporter": "python",
   "pygments_lexer": "ipython3",
   "version": "3.11.0"
  },
  "orig_nbformat": 4
 },
 "nbformat": 4,
 "nbformat_minor": 2
}
