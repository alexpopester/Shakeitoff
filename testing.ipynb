{
 "cells": [
  {
   "cell_type": "code",
   "execution_count": 5,
   "metadata": {},
   "outputs": [],
   "source": [
    "import pyvista as pv\n",
    "import numpy as np\n",
    "import matplotlib.pyplot as mt\n",
    "from matplotlib.colors import ListedColormap\n",
    "import vtk \n",
    "import vtkmodules \n"
   ]
  },
  {
   "cell_type": "code",
   "execution_count": 12,
   "metadata": {},
   "outputs": [],
   "source": [
    "# Converts a binary file of data to Vtk for the specific data sets of the 2006 IEE.\n",
    "# fileSource: String - Path to the file to convert\n",
    "# fileDestination: String - Path to the file to write  \n",
    "# Return: Void\n",
    "def binaryToVtk(fileSource, fileDestination):\n",
    "    # Reader to get the data from the file. This describes the on-disk file\n",
    "    # format so that VTK can parse it correctly.\n",
    "    reader = vtk.vtkImageReader()\n",
    "    reader.SetFileName(fileSource)\n",
    "    # There are three dimensions in the file (X, Y, and Z)\n",
    "    # Note that this file only stores the value for the X\n",
    "    # component of the velocity, but it does this over the\n",
    "    # whole 3D volume.\n",
    "    reader.SetFileDimensionality(3)\n",
    "\n",
    "    # There is one scalar field stored, and it is in big-endian floats\n",
    "    reader.SetDataScalarTypeToFloat()\n",
    "    reader.SetDataByteOrderToBigEndian()\n",
    "    reader.SetNumberOfScalarComponents(1)\n",
    "\n",
    "    # The first and last index of data values in X, Y, and Z\n",
    "    reader.SetDataExtent(0, 749, 0, 374, 0, 99)\n",
    "\n",
    "    # Picking an origin at zero, for no good reason\n",
    "    reader.SetDataOrigin(0, 0, 0)\n",
    "\n",
    "    # The data samples are 800 meters apart in X,Y,Z\n",
    "    reader.SetDataSpacing(800, 800, 800)\n",
    "    reader.Update()\n",
    "\n",
    "    # Check if the file exists\n",
    "    # Check if the file format is supported\n",
    "    # Get the output data object\n",
    "    output = reader.GetOutput()\n",
    "    # Print image properties\n",
    "    dimensions = output.GetDimensions()\n",
    "    data_type = output.GetScalarTypeAsString()\n",
    "    scalar_range = output.GetScalarRange()\n",
    "    # Flip the image over in Y to make the coordinate system match\n",
    "    # that of the data computation. The VTK image reader assumes\n",
    "    # pixel (0,0) is at the upper-left, which is left-handed.\n",
    "    reslice1 = vtk.vtkImageFlip()\n",
    "    reslice1.SetInputData(reader.GetOutput())\n",
    "    reslice1.SetFilteredAxis(1)\n",
    "    reslice1.Update()\n",
    "    # Write the data to a Structured Points file\n",
    "    writer = vtk.vtkStructuredPointsWriter()\n",
    "    writer.SetInputData(reslice1.GetOutput())\n",
    "    writer.SetFileName(fileDestination)\n",
    "    writer.SetFileTypeToBinary()\n",
    "    writer.Write()"
   ]
  },
  {
   "cell_type": "code",
   "execution_count": 7,
   "metadata": {},
   "outputs": [
    {
     "name": "stdout",
     "output_type": "stream",
     "text": [
      "Image dimensions: (750, 375, 100)\n",
      "Pixel data type: float\n",
      "Pixel value range: (-0.668026328086853, 0.597023069858551)\n",
      "Image dimensions: (750, 375, 100)\n",
      "Pixel data type: float\n",
      "Pixel value range: (-0.5151859521865845, 0.5597177743911743)\n",
      "Image dimensions: (750, 375, 100)\n",
      "Pixel data type: float\n",
      "Pixel value range: (-0.2553728520870209, 0.26076623797416687)\n"
     ]
    }
   ],
   "source": [
    "binaryToVtk(\"TS21z_X_R2_008000.bin\", \"FunctionX8000.vtk\")\n",
    "binaryToVtk(\"TS21z_Y_R2_008000.bin\", \"FunctionY8000.vtk\")\n",
    "binaryToVtk(\"TS21z_Z_R2_008000.bin\", \"FunctionZ8000.vtk\")"
   ]
  },
  {
   "cell_type": "code",
   "execution_count": 23,
   "metadata": {},
   "outputs": [],
   "source": [
    "xfiles1to20 = [\n",
    "    \"TS21z_X_R2_000100\",\n",
    "    \"TS21z_X_R2_001000\",\n",
    "    \"TS21z_X_R2_002000\",\n",
    "    \"TS21z_X_R2_003000\",\n",
    "    \"TS21z_X_R2_004000\",\n",
    "    \"TS21z_X_R2_005000\",\n",
    "    \"TS21z_X_R2_006000\",\n",
    "    \"TS21z_X_R2_007000\",\n",
    "    \"TS21z_X_R2_008000\",\n",
    "    \"TS21z_X_R2_009000\",\n",
    "    \"TS21z_X_R2_010000\",\n",
    "    \"TS21z_X_R2_011000\",\n",
    "    \"TS21z_X_R2_012000\",\n",
    "    \"TS21z_X_R2_013000\",\n",
    "    \"TS21z_X_R2_014000\",\n",
    "    \"TS21z_X_R2_015000\",\n",
    "    \"TS21z_X_R2_016000\",\n",
    "    \"TS21z_X_R2_017000\",\n",
    "    \"TS21z_X_R2_018000\",\n",
    "    \"TS21z_X_R2_019000\",\n",
    "    \"TS21z_X_R2_020000\"\n",
    "            ]"
   ]
  },
  {
   "cell_type": "code",
   "execution_count": 18,
   "metadata": {},
   "outputs": [],
   "source": [
    "# Create Vtk files from time stamps of 100 - 20000 for the x data.\n",
    "for item in xfiles1to20:\n",
    "    binaryToVtk(\"x1-20/\"+item,\"x1-20vtk/\"+item+\".vtk\")"
   ]
  },
  {
   "cell_type": "code",
   "execution_count": 28,
   "metadata": {},
   "outputs": [
    {
     "name": "stdout",
     "output_type": "stream",
     "text": [
      "0.59702307\n",
      "-0.6680263\n"
     ]
    }
   ],
   "source": [
    "data = pv.read(\"../x1-20vtk/TS21z_X_R2_008000.vtk\")\n",
    "print(max(data.point_data[\"ImageFile\"]))\n",
    "print(min(data.point_data[\"ImageFile\"]))"
   ]
  },
  {
   "cell_type": "code",
   "execution_count": 27,
   "metadata": {},
   "outputs": [],
   "source": [
    "data = pv.read(\"../x1-20vtk/TS21z_X_R2_000100.vtk\")\n",
    "plotter = pv.Plotter(off_screen=True) \n",
    "plotter.add_mesh(data, cmap=\"seismic\", clim=[-0.6680263,0.59702307])\n",
    "\n",
    "plotter.open_gif(\"x1-20.gif\")\n",
    "\n",
    "pts = data.points.copy()\n",
    "\n",
    "nframe = 21\n",
    "for item in xfiles1to20[1:]:\n",
    "    data = pv.read(\"../x1-20vtk/\"+item+\".vtk\")\n",
    "    plotter.update_scalars(data.point_data[\"ImageFile\"]) \n",
    "    plotter.write_frame()\n",
    "\n",
    "plotter.close()"
   ]
  }
 ],
 "metadata": {
  "kernelspec": {
   "display_name": "Python 3",
   "language": "python",
   "name": "python3"
  },
  "language_info": {
   "codemirror_mode": {
    "name": "ipython",
    "version": 3
   },
   "file_extension": ".py",
   "mimetype": "text/x-python",
   "name": "python",
   "nbconvert_exporter": "python",
   "pygments_lexer": "ipython3",
   "version": "3.10.10"
  },
  "orig_nbformat": 4
 },
 "nbformat": 4,
 "nbformat_minor": 2
}
