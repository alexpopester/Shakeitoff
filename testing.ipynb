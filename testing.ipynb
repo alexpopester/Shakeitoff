{
 "cells": [
  {
   "cell_type": "code",
   "execution_count": 16,
   "metadata": {},
   "outputs": [],
   "source": [
    "import pyvista as pv\n",
    "import numpy as np\n",
    "import matplotlib.pyplot as mt\n",
    "from matplotlib.colors import ListedColormap\n",
    "import vtk \n",
    "import vtkmodules \n"
   ]
  },
  {
   "cell_type": "code",
   "execution_count": 17,
   "metadata": {},
   "outputs": [],
   "source": [
    "# Converts a binary file of data to Vtk for the specific data sets of the 2006 IEE.\n",
    "# fileSource: String - Path to the file to convert\n",
    "# fileDestination: String - Path to the file to write  \n",
    "# Return: Void\n",
    "def binaryToVtk(fileSource, fileDestination):\n",
    "    # Reader to get the data from the file. This describes the on-disk file\n",
    "    # format so that VTK can parse it correctly.\n",
    "    reader = vtk.vtkImageReader()\n",
    "    reader.SetFileName(fileSource)\n",
    "    # There are three dimensions in the file (X, Y, and Z)\n",
    "    # Note that this file only stores the value for the X\n",
    "    # component of the velocity, but it does this over the\n",
    "    # whole 3D volume.\n",
    "    reader.SetFileDimensionality(3)\n",
    "\n",
    "    # There is one scalar field stored, and it is in big-endian floats\n",
    "    reader.SetDataScalarTypeToFloat()\n",
    "    reader.SetDataByteOrderToBigEndian()\n",
    "    reader.SetNumberOfScalarComponents(1)\n",
    "\n",
    "    # The first and last index of data values in X, Y, and Z\n",
    "    reader.SetDataExtent(0, 749, 0, 374, 0, 99)\n",
    "\n",
    "    # Picking an origin at zero, for no good reason\n",
    "    reader.SetDataOrigin(0, 0, 0)\n",
    "\n",
    "    # The data samples are 800 meters apart in X,Y,Z\n",
    "    reader.SetDataSpacing(800, 800, 800)\n",
    "    reader.Update()\n",
    "\n",
    "    # Check if the file exists\n",
    "    # Check if the file format is supported\n",
    "    # Get the output data object\n",
    "    output = reader.GetOutput()\n",
    "    # Print image properties\n",
    "    dimensions = output.GetDimensions()\n",
    "    data_type = output.GetScalarTypeAsString()\n",
    "    scalar_range = output.GetScalarRange()\n",
    "    # Flip the image over in Y to make the coordinate system match\n",
    "    # that of the data computation. The VTK image reader assumes\n",
    "    # pixel (0,0) is at the upper-left, which is left-handed.\n",
    "    reslice1 = vtk.vtkImageFlip()\n",
    "    reslice1.SetInputData(reader.GetOutput())\n",
    "    reslice1.SetFilteredAxis(1)\n",
    "    reslice1.Update()\n",
    "    # Write the data to a Structured Points file\n",
    "    writer = vtk.vtkStructuredPointsWriter()\n",
    "    writer.SetInputData(reslice1.GetOutput())\n",
    "    writer.SetFileName(fileDestination)\n",
    "    writer.SetFileTypeToBinary()\n",
    "    writer.Write()"
   ]
  },
  {
   "cell_type": "code",
   "execution_count": 18,
   "metadata": {},
   "outputs": [
    {
     "name": "stderr",
     "output_type": "stream",
     "text": [
      "ERROR:root:Initialize: Could not open file TS21z_X_R2_008000.bin\n",
      "\u001b[0m\u001b[31m2023-03-30 17:20:37.486 (3076.603s) [        89645740]    vtkImageReader2.cxx:578    ERR| vtkImageReader (0x563d3192f880): Initialize: Could not open file TS21z_X_R2_008000.bin\u001b[0m\n",
      "ERROR:root:Initialize: Could not open file TS21z_Y_R2_008000.bin\n",
      "\u001b[0m\u001b[31m2023-03-30 17:20:38.428 (3077.544s) [        89645740]    vtkImageReader2.cxx:578    ERR| vtkImageReader (0x563d3192f880): Initialize: Could not open file TS21z_Y_R2_008000.bin\u001b[0m\n",
      "ERROR:root:Initialize: Could not open file TS21z_Z_R2_008000.bin\n",
      "\u001b[0m\u001b[31m2023-03-30 17:20:39.383 (3078.500s) [        89645740]    vtkImageReader2.cxx:578    ERR| vtkImageReader (0x563d3192f880): Initialize: Could not open file TS21z_Z_R2_008000.bin\u001b[0m\n"
     ]
    }
   ],
   "source": [
    "binaryToVtk(\"TS21z_X_R2_008000.bin\", \"FunctionX8000.vtk\")\n",
    "binaryToVtk(\"TS21z_Y_R2_008000.bin\", \"FunctionY8000.vtk\")\n",
    "binaryToVtk(\"TS21z_Z_R2_008000.bin\", \"FunctionZ8000.vtk\")"
   ]
  },
  {
   "cell_type": "code",
   "execution_count": 19,
   "metadata": {},
   "outputs": [],
   "source": [
    "xfiles1to20 = [\n",
    "    \"TS21z_X_R2_000100\",\n",
    "    \"TS21z_X_R2_001000\",\n",
    "    \"TS21z_X_R2_002000\",\n",
    "    \"TS21z_X_R2_003000\",\n",
    "    \"TS21z_X_R2_004000\",\n",
    "    \"TS21z_X_R2_005000\",\n",
    "    \"TS21z_X_R2_006000\",\n",
    "    \"TS21z_X_R2_007000\",\n",
    "    \"TS21z_X_R2_008000\",\n",
    "    \"TS21z_X_R2_009000\",\n",
    "    \"TS21z_X_R2_010000\",\n",
    "    \"TS21z_X_R2_011000\",\n",
    "    \"TS21z_X_R2_012000\",\n",
    "    \"TS21z_X_R2_013000\",\n",
    "    \"TS21z_X_R2_014000\",\n",
    "    \"TS21z_X_R2_015000\",\n",
    "    \"TS21z_X_R2_016000\",\n",
    "    \"TS21z_X_R2_017000\",\n",
    "    \"TS21z_X_R2_018000\",\n",
    "    \"TS21z_X_R2_019000\",\n",
    "    \"TS21z_X_R2_020000\"\n",
    "            ]"
   ]
  },
  {
   "cell_type": "code",
   "execution_count": 20,
   "metadata": {},
   "outputs": [
    {
     "name": "stderr",
     "output_type": "stream",
     "text": [
      "ERROR:root:Initialize: Could not open file x1-20/TS21z_X_R2_000100\n",
      "\u001b[0m\u001b[31m2023-03-30 17:20:40.697 (3079.814s) [        89645740]    vtkImageReader2.cxx:578    ERR| vtkImageReader (0x563d3192f880): Initialize: Could not open file x1-20/TS21z_X_R2_000100\u001b[0m\n",
      "ERROR:root:Unable to open file: x1-20vtk/TS21z_X_R2_000100.vtk\n",
      "\u001b[0m\u001b[31m2023-03-30 17:20:40.809 (3079.926s) [        89645740]      vtkDataWriter.cxx:187    ERR| vtkStructuredPointsWriter (0x563d24db9f60): Unable to open file: x1-20vtk/TS21z_X_R2_000100.vtk\u001b[0m\n",
      "ERROR:root:Initialize: Could not open file x1-20/TS21z_X_R2_001000\n",
      "\u001b[0m\u001b[31m2023-03-30 17:20:40.818 (3079.935s) [        89645740]    vtkImageReader2.cxx:578    ERR| vtkImageReader (0x563d3192f880): Initialize: Could not open file x1-20/TS21z_X_R2_001000\u001b[0m\n",
      "ERROR:root:Unable to open file: x1-20vtk/TS21z_X_R2_001000.vtk\n",
      "\u001b[0m\u001b[31m2023-03-30 17:20:40.943 (3080.060s) [        89645740]      vtkDataWriter.cxx:187    ERR| vtkStructuredPointsWriter (0x563d2d0441f0): Unable to open file: x1-20vtk/TS21z_X_R2_001000.vtk\u001b[0m\n",
      "ERROR:root:Initialize: Could not open file x1-20/TS21z_X_R2_002000\n",
      "\u001b[0m\u001b[31m2023-03-30 17:20:40.953 (3080.069s) [        89645740]    vtkImageReader2.cxx:578    ERR| vtkImageReader (0x563d3192f880): Initialize: Could not open file x1-20/TS21z_X_R2_002000\u001b[0m\n",
      "ERROR:root:Unable to open file: x1-20vtk/TS21z_X_R2_002000.vtk\n",
      "\u001b[0m\u001b[31m2023-03-30 17:20:41.106 (3080.222s) [        89645740]      vtkDataWriter.cxx:187    ERR| vtkStructuredPointsWriter (0x563d2b64b0a0): Unable to open file: x1-20vtk/TS21z_X_R2_002000.vtk\u001b[0m\n",
      "ERROR:root:Initialize: Could not open file x1-20/TS21z_X_R2_003000\n",
      "\u001b[0m\u001b[31m2023-03-30 17:20:41.118 (3080.234s) [        89645740]    vtkImageReader2.cxx:578    ERR| vtkImageReader (0x563d3192f880): Initialize: Could not open file x1-20/TS21z_X_R2_003000\u001b[0m\n",
      "ERROR:root:Unable to open file: x1-20vtk/TS21z_X_R2_003000.vtk\n",
      "\u001b[0m\u001b[31m2023-03-30 17:20:41.234 (3080.350s) [        89645740]      vtkDataWriter.cxx:187    ERR| vtkStructuredPointsWriter (0x563d28f8a530): Unable to open file: x1-20vtk/TS21z_X_R2_003000.vtk\u001b[0m\n",
      "ERROR:root:Initialize: Could not open file x1-20/TS21z_X_R2_004000\n",
      "\u001b[0m\u001b[31m2023-03-30 17:20:41.241 (3080.358s) [        89645740]    vtkImageReader2.cxx:578    ERR| vtkImageReader (0x563d3192f880): Initialize: Could not open file x1-20/TS21z_X_R2_004000\u001b[0m\n",
      "ERROR:root:Unable to open file: x1-20vtk/TS21z_X_R2_004000.vtk\n",
      "\u001b[0m\u001b[31m2023-03-30 17:20:41.355 (3080.471s) [        89645740]      vtkDataWriter.cxx:187    ERR| vtkStructuredPointsWriter (0x563d2d044500): Unable to open file: x1-20vtk/TS21z_X_R2_004000.vtk\u001b[0m\n",
      "ERROR:root:Initialize: Could not open file x1-20/TS21z_X_R2_005000\n",
      "\u001b[0m\u001b[31m2023-03-30 17:20:41.366 (3080.483s) [        89645740]    vtkImageReader2.cxx:578    ERR| vtkImageReader (0x563d3192f880): Initialize: Could not open file x1-20/TS21z_X_R2_005000\u001b[0m\n",
      "ERROR:root:Unable to open file: x1-20vtk/TS21z_X_R2_005000.vtk\n",
      "\u001b[0m\u001b[31m2023-03-30 17:20:41.505 (3080.622s) [        89645740]      vtkDataWriter.cxx:187    ERR| vtkStructuredPointsWriter (0x563d24db9f60): Unable to open file: x1-20vtk/TS21z_X_R2_005000.vtk\u001b[0m\n",
      "ERROR:root:Initialize: Could not open file x1-20/TS21z_X_R2_006000\n",
      "\u001b[0m\u001b[31m2023-03-30 17:20:41.513 (3080.630s) [        89645740]    vtkImageReader2.cxx:578    ERR| vtkImageReader (0x563d3192f880): Initialize: Could not open file x1-20/TS21z_X_R2_006000\u001b[0m\n",
      "ERROR:root:Unable to open file: x1-20vtk/TS21z_X_R2_006000.vtk\n",
      "\u001b[0m\u001b[31m2023-03-30 17:20:41.621 (3080.738s) [        89645740]      vtkDataWriter.cxx:187    ERR| vtkStructuredPointsWriter (0x563d2d0441f0): Unable to open file: x1-20vtk/TS21z_X_R2_006000.vtk\u001b[0m\n",
      "ERROR:root:Initialize: Could not open file x1-20/TS21z_X_R2_007000\n",
      "\u001b[0m\u001b[31m2023-03-30 17:20:41.628 (3080.745s) [        89645740]    vtkImageReader2.cxx:578    ERR| vtkImageReader (0x563d3192f880): Initialize: Could not open file x1-20/TS21z_X_R2_007000\u001b[0m\n",
      "ERROR:root:Unable to open file: x1-20vtk/TS21z_X_R2_007000.vtk\n",
      "\u001b[0m\u001b[31m2023-03-30 17:20:41.730 (3080.847s) [        89645740]      vtkDataWriter.cxx:187    ERR| vtkStructuredPointsWriter (0x563d2b64b0a0): Unable to open file: x1-20vtk/TS21z_X_R2_007000.vtk\u001b[0m\n",
      "ERROR:root:Initialize: Could not open file x1-20/TS21z_X_R2_008000\n",
      "\u001b[0m\u001b[31m2023-03-30 17:20:41.740 (3080.856s) [        89645740]    vtkImageReader2.cxx:578    ERR| vtkImageReader (0x563d3192f880): Initialize: Could not open file x1-20/TS21z_X_R2_008000\u001b[0m\n",
      "ERROR:root:Unable to open file: x1-20vtk/TS21z_X_R2_008000.vtk\n",
      "\u001b[0m\u001b[31m2023-03-30 17:20:41.885 (3081.002s) [        89645740]      vtkDataWriter.cxx:187    ERR| vtkStructuredPointsWriter (0x563d28f8a530): Unable to open file: x1-20vtk/TS21z_X_R2_008000.vtk\u001b[0m\n",
      "ERROR:root:Initialize: Could not open file x1-20/TS21z_X_R2_009000\n",
      "\u001b[0m\u001b[31m2023-03-30 17:20:41.895 (3081.011s) [        89645740]    vtkImageReader2.cxx:578    ERR| vtkImageReader (0x563d3192f880): Initialize: Could not open file x1-20/TS21z_X_R2_009000\u001b[0m\n",
      "ERROR:root:Unable to open file: x1-20vtk/TS21z_X_R2_009000.vtk\n",
      "\u001b[0m\u001b[31m2023-03-30 17:20:42.059 (3081.176s) [        89645740]      vtkDataWriter.cxx:187    ERR| vtkStructuredPointsWriter (0x563d2d044500): Unable to open file: x1-20vtk/TS21z_X_R2_009000.vtk\u001b[0m\n",
      "ERROR:root:Initialize: Could not open file x1-20/TS21z_X_R2_010000\n",
      "\u001b[0m\u001b[31m2023-03-30 17:20:42.070 (3081.186s) [        89645740]    vtkImageReader2.cxx:578    ERR| vtkImageReader (0x563d3192f880): Initialize: Could not open file x1-20/TS21z_X_R2_010000\u001b[0m\n",
      "ERROR:root:Unable to open file: x1-20vtk/TS21z_X_R2_010000.vtk\n",
      "\u001b[0m\u001b[31m2023-03-30 17:20:42.189 (3081.306s) [        89645740]      vtkDataWriter.cxx:187    ERR| vtkStructuredPointsWriter (0x563d24db9f60): Unable to open file: x1-20vtk/TS21z_X_R2_010000.vtk\u001b[0m\n",
      "ERROR:root:Initialize: Could not open file x1-20/TS21z_X_R2_011000\n",
      "\u001b[0m\u001b[31m2023-03-30 17:20:42.197 (3081.313s) [        89645740]    vtkImageReader2.cxx:578    ERR| vtkImageReader (0x563d3192f880): Initialize: Could not open file x1-20/TS21z_X_R2_011000\u001b[0m\n",
      "ERROR:root:Unable to open file: x1-20vtk/TS21z_X_R2_011000.vtk\n",
      "\u001b[0m\u001b[31m2023-03-30 17:20:42.346 (3081.463s) [        89645740]      vtkDataWriter.cxx:187    ERR| vtkStructuredPointsWriter (0x563d2d0441f0): Unable to open file: x1-20vtk/TS21z_X_R2_011000.vtk\u001b[0m\n",
      "ERROR:root:Initialize: Could not open file x1-20/TS21z_X_R2_012000\n",
      "\u001b[0m\u001b[31m2023-03-30 17:20:42.357 (3081.473s) [        89645740]    vtkImageReader2.cxx:578    ERR| vtkImageReader (0x563d3192f880): Initialize: Could not open file x1-20/TS21z_X_R2_012000\u001b[0m\n",
      "ERROR:root:Unable to open file: x1-20vtk/TS21z_X_R2_012000.vtk\n",
      "\u001b[0m\u001b[31m2023-03-30 17:20:42.479 (3081.596s) [        89645740]      vtkDataWriter.cxx:187    ERR| vtkStructuredPointsWriter (0x563d2b64b0a0): Unable to open file: x1-20vtk/TS21z_X_R2_012000.vtk\u001b[0m\n",
      "ERROR:root:Initialize: Could not open file x1-20/TS21z_X_R2_013000\n",
      "\u001b[0m\u001b[31m2023-03-30 17:20:42.491 (3081.608s) [        89645740]    vtkImageReader2.cxx:578    ERR| vtkImageReader (0x563d3192f880): Initialize: Could not open file x1-20/TS21z_X_R2_013000\u001b[0m\n",
      "ERROR:root:Unable to open file: x1-20vtk/TS21z_X_R2_013000.vtk\n",
      "\u001b[0m\u001b[31m2023-03-30 17:20:42.620 (3081.737s) [        89645740]      vtkDataWriter.cxx:187    ERR| vtkStructuredPointsWriter (0x563d28f8a530): Unable to open file: x1-20vtk/TS21z_X_R2_013000.vtk\u001b[0m\n",
      "ERROR:root:Initialize: Could not open file x1-20/TS21z_X_R2_014000\n",
      "\u001b[0m\u001b[31m2023-03-30 17:20:42.630 (3081.747s) [        89645740]    vtkImageReader2.cxx:578    ERR| vtkImageReader (0x563d3192f880): Initialize: Could not open file x1-20/TS21z_X_R2_014000\u001b[0m\n",
      "ERROR:root:Unable to open file: x1-20vtk/TS21z_X_R2_014000.vtk\n",
      "\u001b[0m\u001b[31m2023-03-30 17:20:42.759 (3081.876s) [        89645740]      vtkDataWriter.cxx:187    ERR| vtkStructuredPointsWriter (0x563d2d044500): Unable to open file: x1-20vtk/TS21z_X_R2_014000.vtk\u001b[0m\n",
      "ERROR:root:Initialize: Could not open file x1-20/TS21z_X_R2_015000\n",
      "\u001b[0m\u001b[31m2023-03-30 17:20:42.768 (3081.885s) [        89645740]    vtkImageReader2.cxx:578    ERR| vtkImageReader (0x563d3192f880): Initialize: Could not open file x1-20/TS21z_X_R2_015000\u001b[0m\n",
      "ERROR:root:Unable to open file: x1-20vtk/TS21z_X_R2_015000.vtk\n",
      "\u001b[0m\u001b[31m2023-03-30 17:20:42.887 (3082.003s) [        89645740]      vtkDataWriter.cxx:187    ERR| vtkStructuredPointsWriter (0x563d24db9f60): Unable to open file: x1-20vtk/TS21z_X_R2_015000.vtk\u001b[0m\n",
      "ERROR:root:Initialize: Could not open file x1-20/TS21z_X_R2_016000\n",
      "\u001b[0m\u001b[31m2023-03-30 17:20:42.894 (3082.011s) [        89645740]    vtkImageReader2.cxx:578    ERR| vtkImageReader (0x563d3192f880): Initialize: Could not open file x1-20/TS21z_X_R2_016000\u001b[0m\n",
      "ERROR:root:Unable to open file: x1-20vtk/TS21z_X_R2_016000.vtk\n",
      "\u001b[0m\u001b[31m2023-03-30 17:20:43.000 (3082.117s) [        89645740]      vtkDataWriter.cxx:187    ERR| vtkStructuredPointsWriter (0x563d2d0441f0): Unable to open file: x1-20vtk/TS21z_X_R2_016000.vtk\u001b[0m\n",
      "ERROR:root:Initialize: Could not open file x1-20/TS21z_X_R2_017000\n",
      "\u001b[0m\u001b[31m2023-03-30 17:20:43.009 (3082.126s) [        89645740]    vtkImageReader2.cxx:578    ERR| vtkImageReader (0x563d3192f880): Initialize: Could not open file x1-20/TS21z_X_R2_017000\u001b[0m\n",
      "ERROR:root:Unable to open file: x1-20vtk/TS21z_X_R2_017000.vtk\n",
      "\u001b[0m\u001b[31m2023-03-30 17:20:43.170 (3082.287s) [        89645740]      vtkDataWriter.cxx:187    ERR| vtkStructuredPointsWriter (0x563d2b64b0a0): Unable to open file: x1-20vtk/TS21z_X_R2_017000.vtk\u001b[0m\n",
      "ERROR:root:Initialize: Could not open file x1-20/TS21z_X_R2_018000\n",
      "\u001b[0m\u001b[31m2023-03-30 17:20:43.180 (3082.296s) [        89645740]    vtkImageReader2.cxx:578    ERR| vtkImageReader (0x563d3192f880): Initialize: Could not open file x1-20/TS21z_X_R2_018000\u001b[0m\n",
      "ERROR:root:Unable to open file: x1-20vtk/TS21z_X_R2_018000.vtk\n",
      "\u001b[0m\u001b[31m2023-03-30 17:20:43.306 (3082.422s) [        89645740]      vtkDataWriter.cxx:187    ERR| vtkStructuredPointsWriter (0x563d28f8a530): Unable to open file: x1-20vtk/TS21z_X_R2_018000.vtk\u001b[0m\n",
      "ERROR:root:Initialize: Could not open file x1-20/TS21z_X_R2_019000\n",
      "\u001b[0m\u001b[31m2023-03-30 17:20:43.314 (3082.431s) [        89645740]    vtkImageReader2.cxx:578    ERR| vtkImageReader (0x563d3192f880): Initialize: Could not open file x1-20/TS21z_X_R2_019000\u001b[0m\n",
      "ERROR:root:Unable to open file: x1-20vtk/TS21z_X_R2_019000.vtk\n",
      "\u001b[0m\u001b[31m2023-03-30 17:20:43.455 (3082.572s) [        89645740]      vtkDataWriter.cxx:187    ERR| vtkStructuredPointsWriter (0x563d2d044500): Unable to open file: x1-20vtk/TS21z_X_R2_019000.vtk\u001b[0m\n",
      "ERROR:root:Initialize: Could not open file x1-20/TS21z_X_R2_020000\n",
      "\u001b[0m\u001b[31m2023-03-30 17:20:43.461 (3082.578s) [        89645740]    vtkImageReader2.cxx:578    ERR| vtkImageReader (0x563d3192f880): Initialize: Could not open file x1-20/TS21z_X_R2_020000\u001b[0m\n",
      "ERROR:root:Unable to open file: x1-20vtk/TS21z_X_R2_020000.vtk\n",
      "\u001b[0m\u001b[31m2023-03-30 17:20:43.601 (3082.718s) [        89645740]      vtkDataWriter.cxx:187    ERR| vtkStructuredPointsWriter (0x563d24db9f60): Unable to open file: x1-20vtk/TS21z_X_R2_020000.vtk\u001b[0m\n"
     ]
    }
   ],
   "source": [
    "# Create Vtk files from time stamps of 100 - 20000 for the x data.\n",
    "for item in xfiles1to20:\n",
    "    binaryToVtk(\"x1-20/\"+item,\"x1-20vtk/\"+item+\".vtk\")"
   ]
  },
  {
   "cell_type": "code",
   "execution_count": 21,
   "metadata": {},
   "outputs": [
    {
     "name": "stdout",
     "output_type": "stream",
     "text": [
      "0.59702307\n",
      "-0.6680263\n"
     ]
    }
   ],
   "source": [
    "data = pv.read(\"../x1-20vtk/TS21z_X_R2_008000.vtk\")\n",
    "print(max(data.point_data[\"ImageFile\"]))\n",
    "print(min(data.point_data[\"ImageFile\"]))"
   ]
  },
  {
   "cell_type": "code",
   "execution_count": 22,
   "metadata": {},
   "outputs": [],
   "source": [
    "data = pv.read(\"../x1-20vtk/TS21z_X_R2_000100.vtk\")\n",
    "plotter = pv.Plotter(off_screen=True) \n",
    "plotter.add_mesh(data, cmap=\"seismic\", clim=[-0.6680263,0.59702307])\n",
    "\n",
    "plotter.open_gif(\"x1-20.gif\")\n",
    "\n",
    "pts = data.points.copy()\n",
    "\n",
    "nframe = 21\n",
    "for item in xfiles1to20[1:]:\n",
    "    data = pv.read(\"../x1-20vtk/\"+item+\".vtk\")\n",
    "    plotter.update_scalars(data.point_data[\"ImageFile\"]) \n",
    "    plotter.write_frame()\n",
    "\n",
    "plotter.close()"
   ]
  },
  {
   "cell_type": "code",
   "execution_count": 23,
   "metadata": {},
   "outputs": [
    {
     "data": {
      "application/vnd.jupyter.widget-view+json": {
       "model_id": "df44f0b5cae04518b9d0f1531f4f5719",
       "version_major": 2,
       "version_minor": 0
      },
      "text/plain": [
       "Widget(value=\"<iframe src='http://localhost:43155/index.html?ui=P_0x7fb430b6fb50_7&reconnect=auto' style='widt…"
      ]
     },
     "metadata": {},
     "output_type": "display_data"
    }
   ],
   "source": [
    "d = pv.read(\"../TS21VelocityMesh_VS_R2.vtk\")\n",
    "n = np.array(d)\n",
    "plotter = pv.Plotter()\n",
    "contours = d.contour(3,rng=(611,2000))\n",
    "plotter.add_mesh(contours, cmap=\"gray\")\n",
    "plotter.show()"
   ]
  },
  {
   "cell_type": "code",
   "execution_count": 24,
   "metadata": {},
   "outputs": [
    {
     "data": {
      "application/vnd.jupyter.widget-view+json": {
       "model_id": "90ac7ce266d94d428975ecd358c61774",
       "version_major": 2,
       "version_minor": 0
      },
      "text/plain": [
       "Widget(value=\"<iframe src='http://localhost:43155/index.html?ui=P_0x7fb3e407fa00_8&reconnect=auto' style='widt…"
      ]
     },
     "metadata": {},
     "output_type": "display_data"
    }
   ],
   "source": [
    "plotter = pv.Plotter(off_screen=True) \n",
    "data2 = pv.read(\"../TS21VelocityMesh_VS_R2.vtk\")\n",
    "\n",
    "scale = 4\n",
    "scale_matrix = np.diag([scale,scale,scale])\n",
    "data2 = data2.scale((4,4,4))\n",
    "data2 = data2.threshold(2500, invert=True)\n",
    "plotter.add_mesh(data2, color=\"green\")\n",
    "\n",
    "data = pv.read(\"../x1-20vtk/TS21z_X_R2_008000.vtk\")\n",
    "mesh = plotter.add_mesh(data, cmap=\"seismic\", opacity=0.5)\n",
    "plotter.show()"
   ]
  },
  {
   "attachments": {},
   "cell_type": "markdown",
   "metadata": {},
   "source": [
    "### Gif Creation of wave motion as Iso Volumes"
   ]
  },
  {
   "cell_type": "code",
   "execution_count": 25,
   "metadata": {},
   "outputs": [],
   "source": [
    "data = pv.read(\"../x1-20vtk/TS21z_X_R2_001000.vtk\")\n",
    "plotter = pv.Plotter(off_screen=True) \n",
    "\n",
    "iso1 = data.threshold(0.01)\n",
    "iso2 = data.threshold(-0.01, invert=True)\n",
    "\n",
    "mesh1 = plotter.add_mesh(iso1,lighting=False, cmap=\"seismic\", opacity=0.5,clim=[-0.6680263,0.59702307])\n",
    "mesh2 = plotter.add_mesh(iso2,lighting=False, cmap=\"seismic\", opacity=0.5,clim=[-0.6680263,0.59702307])\n",
    "\n",
    "plotter.open_gif(\"x1-20Iso.gif\")\n",
    "\n",
    "for item in xfiles1to20[2:]:\n",
    "    plotter.clear_actors()\n",
    "    data = pv.read(\"../x1-20vtk/\"+item+\".vtk\")\n",
    "    iso1 = data.threshold(0.01)\n",
    "    iso2 = data.threshold(-0.01, invert=True)\n",
    "    mesh1 = plotter.add_mesh(iso1,lighting=False, cmap=\"seismic\", opacity=0.5,clim=[-0.6680263,0.59702307])\n",
    "    mesh2 = plotter.add_mesh(iso2,lighting=False, cmap=\"seismic\", opacity=0.5,clim=[-0.6680263,0.59702307])\n",
    "    plotter.write_frame()\n",
    "\n",
    "plotter.close()"
   ]
  },
  {
   "attachments": {},
   "cell_type": "markdown",
   "metadata": {},
   "source": [
    "### Gif creation of Waves with Land Features overlayed on top\n"
   ]
  },
  {
   "cell_type": "code",
   "execution_count": 26,
   "metadata": {},
   "outputs": [],
   "source": [
    "plotter = pv.Plotter(off_screen=True) \n",
    "landFeatures = pv.read(\"../TS21VelocityMesh_VS_R2.vtk\")\n",
    "\n",
    "scale = 4\n",
    "scale_matrix = np.diag([scale,scale,scale])\n",
    "landFeatures = landFeatures.scale((4,4,4))\n",
    "\n",
    "landFeatures = landFeatures.threshold(2500, invert=True)\n",
    "plotter.add_mesh(landFeatures, color=\"green\")\n",
    "\n",
    "\n",
    "waves = pv.read(\"../x1-20vtk/TS21z_X_R2_000100.vtk\")\n",
    "mesh = plotter.add_mesh(waves, cmap=\"seismic\", opacity=0.5, clim=[-0.6680263,0.59702307])\n",
    "\n",
    "plotter.open_gif(\"x1-20OverLand.gif\")\n",
    "\n",
    "for item in xfiles1to20[1:]:\n",
    "    plotter.clear_actors()\n",
    "    waves = pv.read(\"../x1-20vtk/\"+item+\".vtk\")\n",
    "    plotter.add_mesh(landFeatures, color=\"green\")\n",
    "    plotter.add_mesh(waves, cmap=\"seismic\", opacity=0.5, clim=[-0.6680263,0.59702307])\n",
    "    plotter.write_frame()\n",
    "\n",
    "plotter.close()\n"
   ]
  }
 ],
 "metadata": {
  "kernelspec": {
   "display_name": "Python 3",
   "language": "python",
   "name": "python3"
  },
  "language_info": {
   "codemirror_mode": {
    "name": "ipython",
    "version": 3
   },
   "file_extension": ".py",
   "mimetype": "text/x-python",
   "name": "python",
   "nbconvert_exporter": "python",
   "pygments_lexer": "ipython3",
   "version": "3.10.10"
  },
  "orig_nbformat": 4
 },
 "nbformat": 4,
 "nbformat_minor": 2
}
